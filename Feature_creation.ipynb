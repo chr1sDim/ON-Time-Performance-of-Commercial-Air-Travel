{
 "cells": [
  {
   "cell_type": "code",
   "execution_count": 21,
   "metadata": {
    "collapsed": true
   },
   "outputs": [],
   "source": [
    "from __future__ import division #, print_function # Imports from __future__ since we're running Python 2\n",
    "import os\n",
    "import numpy as np \n",
    "import pandas as pd\n",
    "import matplotlib.pyplot as plt\n",
    "import seaborn as sns\n",
    "random_state = 10 # Ensure reproducible results\n",
    "\n",
    "from sklearn.model_selection import train_test_split\n",
    "from sklearn.utils import shuffle\n",
    "%matplotlib inline\n",
    "plt.style.use('classic')\n",
    "plt.rc(\"figure\", facecolor=\"white\")"
   ]
  },
  {
   "cell_type": "code",
   "execution_count": 3,
   "metadata": {
    "collapsed": true
   },
   "outputs": [],
   "source": [
    "random_state=0\n",
    "rng = np.random.RandomState(seed=random_state)"
   ]
  },
  {
   "cell_type": "code",
   "execution_count": 4,
   "metadata": {
    "collapsed": true
   },
   "outputs": [],
   "source": [
    "path_data = os.path.join(os.getcwd(),'NY_flights.csv')\n",
    "data = pd.read_csv(path_data, delimiter = ',')"
   ]
  },
  {
   "cell_type": "code",
   "execution_count": 5,
   "metadata": {
    "collapsed": false
   },
   "outputs": [
    {
     "name": "stdout",
     "output_type": "stream",
     "text": [
      "There are 481662 entries and 30 columns in the flight data\n"
     ]
    }
   ],
   "source": [
    "print(\"There are {} entries and {} columns in the flight data\"\\\n",
    "      .format(data.shape[0], data.shape[1]))"
   ]
  },
  {
   "cell_type": "code",
   "execution_count": 6,
   "metadata": {
    "collapsed": true
   },
   "outputs": [],
   "source": [
    "data = data.drop('Unnamed: 0', axis =1)\n",
    "data = data[data['DEP_DELAY'] < 300]\n",
    "data['DEP_DELAY'] = np.maximum(data['DEP_DELAY'], -30)"
   ]
  },
  {
   "cell_type": "code",
   "execution_count": 7,
   "metadata": {
    "collapsed": false
   },
   "outputs": [
    {
     "name": "stdout",
     "output_type": "stream",
     "text": [
      "There are 479820 entries and 29 columns in the flight data\n"
     ]
    }
   ],
   "source": [
    "print(\"There are {} entries and {} columns in the flight data\"\\\n",
    "      .format(data.shape[0], data.shape[1]))"
   ]
  },
  {
   "cell_type": "markdown",
   "metadata": {},
   "source": [
    "#### Preprocessing"
   ]
  },
  {
   "cell_type": "code",
   "execution_count": 19,
   "metadata": {
    "collapsed": false,
    "scrolled": true
   },
   "outputs": [],
   "source": [
    "temp = upcoming_flights.groupby('ARR_DELAY_GROUP')['ARR_DELAY'].count()"
   ]
  },
  {
   "cell_type": "code",
   "execution_count": 25,
   "metadata": {
    "collapsed": false
   },
   "outputs": [
    {
     "data": {
      "image/png": "[encoded data removed]",
      "text/plain": [
       "<matplotlib.figure.Figure at 0x285469219b0>"
      ]
     },
     "metadata": {},
     "output_type": "display_data"
    }
   ],
   "source": [
    "plt.figure(figsize=(12,6))\n",
    "plt.bar(np.arange(0,13), temp,  align='center')\n",
    "plt.xticks(np.arange(0,13), np.arange(0,13))\n",
    "plt.title('Number of Flights per Delay Group')\n",
    "plt.xlabel('Delay Group')\n",
    "plt.ylabel('Number of Flights')\n",
    "plt.xlim([-1,13])\n",
    "plt.grid(True)\n",
    "plt.show()"
   ]
  },
  {
   "cell_type": "code",
   "execution_count": 9,
   "metadata": {
    "collapsed": false
   },
   "outputs": [],
   "source": [
    "upcoming_flights = data[data['ORIGIN_STATE_ABR'] != 'NY']"
   ]
  },
  {
   "cell_type": "code",
   "execution_count": 10,
   "metadata": {
    "collapsed": false
   },
   "outputs": [
    {
     "name": "stdout",
     "output_type": "stream",
     "text": [
      "There are 234292 entries and 29 columns in the flight data\n"
     ]
    }
   ],
   "source": [
    "print(\"There are {} entries and {} columns in the flight data\"\\\n",
    "      .format(upcoming_flights.shape[0], upcoming_flights.shape[1]))"
   ]
  },
  {
   "cell_type": "code",
   "execution_count": 11,
   "metadata": {
    "collapsed": false
   },
   "outputs": [
    {
     "name": "stderr",
     "output_type": "stream",
     "text": [
      "C:\\Users\\chris\\Anaconda3\\envs\\mlp\\lib\\site-packages\\pandas\\core\\indexing.py:477: SettingWithCopyWarning: \n",
      "A value is trying to be set on a copy of a slice from a DataFrame.\n",
      "Try using .loc[row_indexer,col_indexer] = value instead\n",
      "\n",
      "See the caveats in the documentation: http://pandas.pydata.org/pandas-docs/stable/indexing.html#indexing-view-versus-copy\n",
      "  self.obj[item] = s\n"
     ]
    }
   ],
   "source": [
    "upcoming_flights.loc[upcoming_flights['ARR_DELAY_GROUP'] < 0, 'ARR_DELAY_GROUP'] = 0"
   ]
  },
  {
   "cell_type": "code",
   "execution_count": 12,
   "metadata": {
    "collapsed": false
   },
   "outputs": [
    {
     "data": {
      "text/plain": [
       "(181627, 29)"
      ]
     },
     "execution_count": 12,
     "metadata": {},
     "output_type": "execute_result"
    }
   ],
   "source": [
    "nondelayed = upcoming_flights[upcoming_flights['ARR_DELAY_GROUP'] == 0]\n",
    "nondelayed.shape"
   ]
  },
  {
   "cell_type": "code",
   "execution_count": 13,
   "metadata": {
    "collapsed": false
   },
   "outputs": [
    {
     "data": {
      "text/plain": [
       "(52665, 29)"
      ]
     },
     "execution_count": 13,
     "metadata": {},
     "output_type": "execute_result"
    }
   ],
   "source": [
    "delayed = upcoming_flights[upcoming_flights['ARR_DELAY_GROUP'] > 0]\n",
    "delayed.shape"
   ]
  },
  {
   "cell_type": "code",
   "execution_count": 50,
   "metadata": {
    "collapsed": false
   },
   "outputs": [
    {
     "data": {
      "text/plain": [
       "(48975, 29)"
      ]
     },
     "execution_count": 50,
     "metadata": {},
     "output_type": "execute_result"
    }
   ],
   "source": [
    "non_delayed_short = shuffle(nondelayed, random_state = random_state, n_samples = int(len(delayed)))\n",
    "non_delayed_short.shape"
   ]
  },
  {
   "cell_type": "code",
   "execution_count": 51,
   "metadata": {
    "collapsed": false
   },
   "outputs": [
    {
     "data": {
      "text/plain": [
       "(97950, 29)"
      ]
     },
     "execution_count": 51,
     "metadata": {},
     "output_type": "execute_result"
    }
   ],
   "source": [
    "flights = shuffle(pd.concat((delayed, non_delayed_short)), random_state = random_state)\n",
    "flights.shape"
   ]
  },
  {
   "cell_type": "code",
   "execution_count": 52,
   "metadata": {
    "collapsed": false
   },
   "outputs": [
    {
     "data": {
      "text/plain": [
       "<matplotlib.text.Text at 0x20aced04908>"
      ]
     },
     "execution_count": 52,
     "metadata": {},
     "output_type": "execute_result"
    },
    {
     "data": {
      "image/png": "[encoded data removed]",
      "text/plain": [
       "<matplotlib.figure.Figure at 0x20acc4cd940>"
      ]
     },
     "metadata": {},
     "output_type": "display_data"
    }
   ],
   "source": [
    "temp = flights.groupby('ARR_DELAY_GROUP')['ARR_DELAY'].count()\n",
    "plt.figure(figsize=(12,6))\n",
    "plt.bar(np.arange(0,13), temp,  align='center')\n",
    "plt.xticks(np.arange(0,13), np.arange(0,13))\n",
    "plt.title('Number of Flights per Delay Group')\n",
    "plt.xlabel('Delay Group')\n",
    "plt.ylabel('Number of Flights')"
   ]
  },
  {
   "cell_type": "markdown",
   "metadata": {},
   "source": [
    "## Feature Engineering"
   ]
  },
  {
   "cell_type": "code",
   "execution_count": 53,
   "metadata": {
    "collapsed": false
   },
   "outputs": [],
   "source": [
    "from helpers.my_one_hot_encoder import MyOneHotEncoder\n",
    "from sklearn.preprocessing import LabelEncoder"
   ]
  },
  {
   "cell_type": "code",
   "execution_count": 54,
   "metadata": {
    "collapsed": true
   },
   "outputs": [],
   "source": [
    "data_frame = flights.copy(deep=True)"
   ]
  },
  {
   "cell_type": "code",
   "execution_count": 55,
   "metadata": {
    "collapsed": false
   },
   "outputs": [],
   "source": [
    "le_dict = dict() # Initialise an empty dictionary to keep all LabelEncoders\n",
    "df_hol = flights.copy(deep=True) # Make a copy of the DataFrame\n",
    "le = LabelEncoder().fit(data_frame['FL_DATE']) # Initialise the LabelEncoder and fit\n",
    "df_hol['FL_DATE'] = le.transform(data_frame['FL_DATE']) # Transform data and save in credit_clean DataFrame\n",
    "le_dict['FL_DATE'] = le # Store the LabelEncdoer in dictionary\n",
    "\n",
    "# increase the day by one because Label Encoder starts from 0\n",
    "holidays = [0, 17, 42, 105, 150, 165, 248, 283, 315, 328, 329, 360]"
   ]
  },
  {
   "cell_type": "code",
   "execution_count": 56,
   "metadata": {
    "collapsed": true
   },
   "outputs": [],
   "source": [
    "# make a binary holiday feature (if on holiday or not)\n",
    "isholiday = np.zeros(df_hol.shape[0])\n",
    "i = 0\n",
    "for day in df_hol['FL_DATE']:\n",
    "    if (day in holidays):\n",
    "        isholiday[i] = 1\n",
    "    i += 1"
   ]
  },
  {
   "cell_type": "code",
   "execution_count": 57,
   "metadata": {
    "collapsed": true
   },
   "outputs": [],
   "source": [
    "df_hol['IS_HOLIDAY'] = isholiday"
   ]
  },
  {
   "cell_type": "code",
   "execution_count": 58,
   "metadata": {
    "collapsed": true
   },
   "outputs": [],
   "source": [
    "# make aa feature for the days from the next closest holiday\n",
    "DAYS_TO_NEXT_HOLIDAY = np.zeros(df_hol.shape[0])\n",
    "i = 0\n",
    "for day in df_hol['FL_DATE']:\n",
    "    for holiday in holidays:\n",
    "        if holiday >= day:\n",
    "            DAYS_TO_NEXT_HOLIDAY[i] = holiday - day\n",
    "            break\n",
    "    i += 1"
   ]
  },
  {
   "cell_type": "code",
   "execution_count": 59,
   "metadata": {
    "collapsed": true
   },
   "outputs": [],
   "source": [
    "df_hol['DAYS_TO_NEXT_HOLIDAY'] = DAYS_TO_NEXT_HOLIDAY"
   ]
  },
  {
   "cell_type": "code",
   "execution_count": 60,
   "metadata": {
    "collapsed": true
   },
   "outputs": [],
   "source": [
    "# make a feature for the days from the previous closest holiday\n",
    "DAYS_FROM_LAST_HOLIDAY = np.zeros(df_hol.shape[0])\n",
    "i = 0\n",
    "for day in df_hol['FL_DATE']:\n",
    "    for holiday in reversed(holidays):\n",
    "        if holiday <= day:\n",
    "            DAYS_FROM_LAST_HOLIDAY[i] = day - holiday\n",
    "            break    \n",
    "    i += 1"
   ]
  },
  {
   "cell_type": "code",
   "execution_count": 61,
   "metadata": {
    "collapsed": true
   },
   "outputs": [],
   "source": [
    "df_hol['DAYS_FROM_LAST_HOLIDAY'] = DAYS_FROM_LAST_HOLIDAY"
   ]
  },
  {
   "cell_type": "code",
   "execution_count": 62,
   "metadata": {
    "collapsed": true
   },
   "outputs": [],
   "source": [
    "# make a feature for the days from the closest holiday\n",
    "df_hol['DAYS_FROM_NEAREST_HOLIDAY'] = df_hol[['DAYS_FROM_LAST_HOLIDAY', 'DAYS_TO_NEXT_HOLIDAY']].min(axis=1)   "
   ]
  },
  {
   "cell_type": "code",
   "execution_count": 63,
   "metadata": {
    "collapsed": true
   },
   "outputs": [],
   "source": [
    "flights_dropped = df_hol.copy(deep=True) "
   ]
  },
  {
   "cell_type": "code",
   "execution_count": 64,
   "metadata": {
    "collapsed": false
   },
   "outputs": [],
   "source": [
    "le_dict = dict() # Initialise an empty dictionary to keep all LabelEncoders\n",
    "df_hot = flights_dropped.copy(deep=True) # Make a copy of the DataFrame\n",
    "# Loop over attributes by excluding the ones that are continuous and the target variable\n",
    "# DEP_DELAY_GROUP\n",
    "for column in df_hot.drop(['DEP_TIME', 'DEP_DEL15','DEP_DELAY', 'ARR_TIME', 'ARR_DELAY', 'ARR_DEL15', \n",
    "                           'ARR_DELAY_GROUP', 'DISTANCE', 'DAYS_TO_NEXT_HOLIDAY', 'DAYS_FROM_LAST_HOLIDAY', \n",
    "                          'DAYS_FROM_NEAREST_HOLIDAY','IS_HOLIDAY'], axis=1):  \n",
    "    le = LabelEncoder().fit(flights_dropped[column]) # Initialise the LabelEncoder and fit\n",
    "    df_hot[column] = le.transform(flights_dropped[column]) # Transform data and save in credit_clean DataFrame\n",
    "    le_dict[column] = le # Store the LabelEncdoer in dictionary"
   ]
  },
  {
   "cell_type": "code",
   "execution_count": 65,
   "metadata": {
    "collapsed": true
   },
   "outputs": [],
   "source": [
    "columns_one_hot = ['DEP_TIME_BLK', 'MONTH', 'DAY_OF_MONTH', 'DAY_OF_WEEK', 'ORIGIN_STATE_NM', 'UNIQUE_CARRIER', 'DEST', 'DEP_DELAY_GROUP',\n",
    "                  'DISTANCE_GROUP']"
   ]
  },
  {
   "cell_type": "code",
   "execution_count": 66,
   "metadata": {
    "collapsed": false,
    "scrolled": true
   },
   "outputs": [],
   "source": [
    "def one_hot(df, cols):\n",
    "    \"\"\"\n",
    "    @param df pandas DataFrame\n",
    "    @param cols a list of columns to encode \n",
    "    @return a DataFrame with one-hot encoding\n",
    "    \"\"\"\n",
    "    for each in cols:\n",
    "        dummies = pd.get_dummies(df[each], prefix=each, drop_first=False)\n",
    "        df = pd.concat([df, dummies], axis=1)\n",
    "    return df"
   ]
  },
  {
   "cell_type": "code",
   "execution_count": 67,
   "metadata": {
    "collapsed": true
   },
   "outputs": [],
   "source": [
    "everything = one_hot(df_hot, columns_one_hot)"
   ]
  },
  {
   "cell_type": "code",
   "execution_count": 68,
   "metadata": {
    "collapsed": false
   },
   "outputs": [
    {
     "data": {
      "text/plain": [
       "(97950, 239)"
      ]
     },
     "execution_count": 68,
     "metadata": {},
     "output_type": "execute_result"
    }
   ],
   "source": [
    "everything.shape"
   ]
  },
  {
   "cell_type": "code",
   "execution_count": 69,
   "metadata": {
    "collapsed": false
   },
   "outputs": [
    {
     "data": {
      "text/plain": [
       "Index(['QUARTER', 'MONTH', 'DAY_OF_MONTH', 'DAY_OF_WEEK', 'FL_DATE',\n",
       "       'UNIQUE_CARRIER', 'ORIGIN', 'ORIGIN_CITY_NAME', 'ORIGIN_STATE_ABR',\n",
       "       'ORIGIN_STATE_NM', 'DEST', 'DEST_CITY_NAME', 'DEST_STATE_ABR',\n",
       "       'DEST_STATE_NM', 'CRS_DEP_TIME', 'DEP_TIME', 'DEP_DELAY', 'DEP_DEL15',\n",
       "       'DEP_DELAY_GROUP', 'DEP_TIME_BLK', 'CRS_ARR_TIME', 'ARR_TIME',\n",
       "       'ARR_DELAY', 'ARR_DEL15', 'ARR_DELAY_GROUP', 'CRS_ELAPSED_TIME',\n",
       "       'ACTUAL_ELAPSED_TIME', 'DISTANCE', 'DISTANCE_GROUP'],\n",
       "      dtype='object')"
      ]
     },
     "execution_count": 69,
     "metadata": {},
     "output_type": "execute_result"
    }
   ],
   "source": [
    "flights.columns"
   ]
  },
  {
   "cell_type": "code",
   "execution_count": 70,
   "metadata": {
    "collapsed": true
   },
   "outputs": [],
   "source": [
    "drop_cols = ['QUARTER', 'MONTH', 'DAY_OF_MONTH', 'DAY_OF_WEEK', 'FL_DATE',\n",
    "       'UNIQUE_CARRIER', 'ORIGIN', 'ORIGIN_CITY_NAME', 'ORIGIN_STATE_ABR',\n",
    "       'ORIGIN_STATE_NM', 'DEST', 'DEST_CITY_NAME', 'DEST_STATE_ABR',\n",
    "       'DEST_STATE_NM', 'CRS_DEP_TIME', 'DEP_TIME', 'DEP_DELAY', 'DEP_DEL15',\n",
    "       'DEP_DELAY_GROUP', 'DEP_TIME_BLK', 'CRS_ARR_TIME', 'ARR_TIME',\n",
    "       'ARR_DELAY', 'ARR_DEL15', 'CRS_ELAPSED_TIME',\n",
    "       'ACTUAL_ELAPSED_TIME', 'DISTANCE', 'DISTANCE_GROUP']"
   ]
  },
  {
   "cell_type": "code",
   "execution_count": 71,
   "metadata": {
    "collapsed": true
   },
   "outputs": [],
   "source": [
    "data_frame = everything.drop(drop_cols, axis=1)"
   ]
  },
  {
   "cell_type": "code",
   "execution_count": 34,
   "metadata": {
    "collapsed": true
   },
   "outputs": [],
   "source": [
    "data_train, data_test = train_test_split(data_frame, test_size=0.2, random_state=random_state)"
   ]
  },
  {
   "cell_type": "code",
   "execution_count": 35,
   "metadata": {
    "collapsed": true
   },
   "outputs": [],
   "source": [
    "data_train.to_csv(\n",
    "    os.path.realpath(os.path.join(os.getcwd(), 'train_data_ongoing.csv')),\n",
    "    index=False)"
   ]
  },
  {
   "cell_type": "code",
   "execution_count": 36,
   "metadata": {
    "collapsed": true
   },
   "outputs": [],
   "source": [
    "data_test.to_csv(\n",
    "    os.path.realpath(os.path.join(os.getcwd(),'test_data_ongoing.csv')),\n",
    "    index=False)"
   ]
  },
  {
   "cell_type": "code",
   "execution_count": null,
   "metadata": {
    "collapsed": true
   },
   "outputs": [],
   "source": []
  }
 ],
 "metadata": {
  "kernelspec": {
   "display_name": "Python 3",
   "language": "python",
   "name": "python3"
  },
  "language_info": {
   "codemirror_mode": {
    "name": "ipython",
    "version": 3
   },
   "file_extension": ".py",
   "mimetype": "text/x-python",
   "name": "python",
   "nbconvert_exporter": "python",
   "pygments_lexer": "ipython3",
   "version": "3.5.3"
  }
 },
 "nbformat": 4,
 "nbformat_minor": 2
}
